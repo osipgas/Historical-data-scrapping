{
 "cells": [
  {
   "cell_type": "code",
   "execution_count": 1,
   "metadata": {},
   "outputs": [],
   "source": [
    "import requests\n",
    "from bs4 import BeautifulSoup\n",
    "import pandas as pd\n",
    "import os"
   ]
  },
  {
   "cell_type": "code",
   "execution_count": 2,
   "metadata": {},
   "outputs": [],
   "source": [
    "def get_chart_csv(url):\n",
    "    song_names = []\n",
    "    response = requests.get(url)\n",
    "    soup = BeautifulSoup(response.text, 'html.parser')\n",
    "    for link in soup.find_all('td', class_=\"mp text\"):\n",
    "        song_names.append(link.text)\n",
    "    return pd.DataFrame(song_names, columns=[\"Song name\"])"
   ]
  },
  {
   "cell_type": "code",
   "execution_count": 3,
   "metadata": {},
   "outputs": [],
   "source": [
    "import requests\n",
    "from bs4 import BeautifulSoup\n",
    "import pandas as pd\n",
    "import chardet\n",
    "\n",
    "def get_chart_csv(url):\n",
    "    song_names = []\n",
    "    response = requests.get(url)\n",
    "    detected_encoding = chardet.detect(response.content)['encoding']\n",
    "    response.encoding = detected_encoding if detected_encoding else 'utf-8'\n",
    "    soup = BeautifulSoup(response.text, 'html.parser')\n",
    "\n",
    "    for link in soup.find_all('td', class_=\"mp text\"):\n",
    "        song_names.append(link.get_text())\n",
    "\n",
    "    return pd.DataFrame(song_names, columns=[\"Song name\"], index=[i for i in range(1, 1 + len(song_names))])"
   ]
  },
  {
   "cell_type": "code",
   "execution_count": 4,
   "metadata": {},
   "outputs": [],
   "source": [
    "urls = {2017: 'https://web.archive.org/web/20170710120817/https://kworb.net/charts/shazam/cn.html',\n",
    "        2019: 'https://web.archive.org/web/20190319225431/https://kworb.net/charts/shazam/cn.html',\n",
    "        2020: 'https://web.archive.org/web/20200618013200/https://kworb.net/charts/shazam/cn.html',\n",
    "        2021: 'https://web.archive.org/web/20210730062051/https://kworb.net/charts/shazam/cn.html',\n",
    "        2022: 'https://web.archive.org/web/20220414230506/https://kworb.net/charts/shazam/cn.html',\n",
    "        2023: 'https://web.archive.org/web/20230413223833/https://kworb.net/charts/shazam/cn.html',\n",
    "        2024: 'https://web.archive.org/web/20240427000640/https://kworb.net/charts/shazam/cn.html'}"
   ]
  },
  {
   "cell_type": "code",
   "execution_count": 5,
   "metadata": {},
   "outputs": [],
   "source": [
    "charts = []\n",
    "save_root = \"/Users/osiprovin/Desktop/China Charts\"\n",
    "for year, url in urls.items():\n",
    "    chart = get_chart_csv(url)\n",
    "    csv_name = f\"China_Shazam_Chart_{year}.csv\"\n",
    "    save_path = os.path.join(save_root, csv_name)\n",
    "    chart.to_csv(save_path)"
   ]
  }
 ],
 "metadata": {
  "kernelspec": {
   "display_name": "Python 3",
   "language": "python",
   "name": "python3"
  },
  "language_info": {
   "codemirror_mode": {
    "name": "ipython",
    "version": 3
   },
   "file_extension": ".py",
   "mimetype": "text/x-python",
   "name": "python",
   "nbconvert_exporter": "python",
   "pygments_lexer": "ipython3",
   "version": "3.10.5"
  }
 },
 "nbformat": 4,
 "nbformat_minor": 2
}
